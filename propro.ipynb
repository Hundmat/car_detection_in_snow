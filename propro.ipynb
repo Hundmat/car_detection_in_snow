{
 "cells": [
  {
   "cell_type": "code",
   "execution_count": 1,
   "id": "e734b7af-9e2f-48df-b210-abdec0742ccb",
   "metadata": {},
   "outputs": [
    {
     "name": "stdout",
     "output_type": "stream",
     "text": [
      "Jupyter environment detected. Enabling Open3D WebVisualizer.\n",
      "[Open3D INFO] WebRTC GUI backend enabled.\n",
      "[Open3D INFO] WebRTCWindowSystem: HTTP handshake server disabled.\n"
     ]
    },
    {
     "ename": "KeyboardInterrupt",
     "evalue": "",
     "output_type": "error",
     "traceback": [
      "\u001b[1;31m---------------------------------------------------------------------------\u001b[0m",
      "\u001b[1;31mKeyboardInterrupt\u001b[0m                         Traceback (most recent call last)",
      "\u001b[1;31mKeyboardInterrupt\u001b[0m: "
     ]
    }
   ],
   "source": [
    "import open3d as o3d\n",
    "import numpy as np\n",
    "# Load your point cloud\n",
    "pcd = o3d.io.read_point_cloud(\"D:\\\\PROJECT\\\\Drone_reconstruction\\\\dense\\\\0\\\\fused.ply\")\n",
    "\n",
    "# Estimate normals if not already present\n",
    "pcd.estimate_normals(search_param=o3d.geometry.KDTreeSearchParamHybrid(radius=1.0, max_nn=30))\n",
    "\n",
    "# Poisson surface reconstruction\n",
    "mesh, densities = o3d.geometry.TriangleMesh.create_from_point_cloud_poisson(pcd, depth=14)\n",
    "\n",
    "# (Optional) Remove low-density vertices (artifacts)\n",
    "vertices_to_remove = densities < np.quantile(densities, 0.01)\n",
    "mesh.remove_vertices_by_mask(vertices_to_remove)\n",
    "\n",
    "o3d.visualization.draw_geometries([mesh])\n",
    "\n",
    "#% Save\n",
    "o3d.io.write_triangle_mesh(\"filled_surface.ply\", mesh)\n"
   ]
  },
  {
   "cell_type": "code",
   "execution_count": 2,
   "id": "43f9cba4-153e-4175-a593-25ad037c4f96",
   "metadata": {},
   "outputs": [],
   "source": [
    "import open3d as o3d\n",
    "import numpy as np\n",
    "\n",
    "ply_path = r\"filled_surface.ply\"\n",
    "mesh = o3d.io.read_triangle_mesh(ply_path)\n",
    "o3d.visualization.draw_geometries([mesh])\n"
   ]
  },
  {
   "cell_type": "code",
   "execution_count": null,
   "id": "d60d4813-5673-4d82-a439-c0798875a245",
   "metadata": {},
   "outputs": [],
   "source": [
    "import open3d as o3d\n",
    "ply_path = r\"filled_surface.ply\"\n",
    "mesh = o3d.io.read_triangle_mesh(ply_path)\n",
    "mesh.compute_vertex_normals()\n",
    "\n",
    "renderer = o3d.visualization.rendering.OffscreenRenderer(1920, 1080)\n",
    "scene = renderer.scene\n",
    "\n",
    "scene.set_background([1, 1, 1, 1])  # vit bakgrund\n",
    "scene.add_geometry(\"mesh\", mesh, o3d.visualization.rendering.MaterialRecord())\n",
    "\n",
    "# Lägg till ljus\n",
    "scene.scene.set_lighting(o3d.visualization.rendering.Scene.LightingProfile.NO_SHADOWS, (0, 0, 0))\n",
    "\n",
    "# Placera kameran\n",
    "center = mesh.get_center()\n",
    "bbox = mesh.get_axis_aligned_bounding_box()\n",
    "cam = scene.camera\n",
    "cam.look_at(center, center + [0, 0, 1], [0, 1, 0])\n",
    "\n",
    "# Rendera bild\n",
    "img = renderer.render_to_image()\n",
    "o3d.io.write_image(\"screenshot.png\", img)\n"
   ]
  }
 ],
 "metadata": {
  "kernelspec": {
   "display_name": "Python 3 (ipykernel)",
   "language": "python",
   "name": "python3"
  },
  "language_info": {
   "codemirror_mode": {
    "name": "ipython",
    "version": 3
   },
   "file_extension": ".py",
   "mimetype": "text/x-python",
   "name": "python",
   "nbconvert_exporter": "python",
   "pygments_lexer": "ipython3",
   "version": "3.12.8"
  }
 },
 "nbformat": 4,
 "nbformat_minor": 5
}
