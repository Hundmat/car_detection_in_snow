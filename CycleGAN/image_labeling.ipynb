{
  "nbformat": 4,
  "nbformat_minor": 0,
  "metadata": {
    "colab": {
      "provenance": []
    },
    "kernelspec": {
      "name": "python3",
      "display_name": "Python 3"
    },
    "language_info": {
      "name": "python"
    }
  },
  "cells": [
    {
      "cell_type": "code",
      "execution_count": null,
      "metadata": {
        "id": "XxnfDODRJUuT"
      },
      "outputs": [],
      "source": [
        "from google.colab import drive\n",
        "drive.mount('/content/drive')"
      ]
    },
    {
      "cell_type": "code",
      "source": [
        "from IPython.display import display\n",
        "from PIL import Image\n",
        "import os\n",
        "\n",
        "image_folder = \"/content/images_to_label\"\n",
        "output_file = \"/content/snow_labels.csv\"\n",
        "image_files = sorted([f for f in os.listdir(image_folder) if f.endswith(('.jpg', '.png'))])\n",
        "\n",
        "labels = {}\n",
        "\n",
        "for file in image_files:\n",
        "    img_path = os.path.join(image_folder, file)\n",
        "    display(Image.open(img_path).resize((400, 300)))\n",
        "\n",
        "    label = input(f\"Is there snow in '{file}'? (y/n): \").lower()\n",
        "    labels[file] = \"snow\" if label == \"y\" else \"no_snow\"\n",
        "\n",
        "# Save\n",
        "with open(output_file, \"w\") as f:\n",
        "    f.write(\"filename,label\\n\")\n",
        "    for k, v in labels.items():\n",
        "        f.write(f\"{k},{v}\\n\")\n"
      ],
      "metadata": {
        "id": "yowN-gM_JVc-"
      },
      "execution_count": null,
      "outputs": []
    },
    {
      "cell_type": "code",
      "source": [
        "from IPython.display import Javascript\n",
        "\n",
        "Javascript('''\n",
        "(async function() {\n",
        "  const btn = [...document.querySelectorAll('colab-toolbar-button')]\n",
        "    .find(el => el.shadowRoot.innerHTML.includes('delete'));\n",
        "  if (btn) btn.click();\n",
        "})();\n",
        "''')\n"
      ],
      "metadata": {
        "id": "hIy4NbGWifBN"
      },
      "execution_count": null,
      "outputs": []
    }
  ]
}