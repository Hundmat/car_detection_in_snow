{
 "cells": [
  {
   "cell_type": "code",
   "execution_count": 7,
   "id": "aec617ba-f24f-47d3-b80f-263e33ee8356",
   "metadata": {
    "scrolled": true
   },
   "outputs": [
    {
     "name": "stdout",
     "output_type": "stream",
     "text": [
      "📦 Copying main dataset from NVD...\n",
      "📊 NVD train images: 4355, background-only: 0 (0.00%)\n",
      "✅ Dataset prepared under combined_yolo_dataset_full_no_aug\n"
     ]
    }
   ],
   "source": [
    "import shutil\n",
    "import random\n",
    "import yaml\n",
    "from pathlib import Path\n",
    "\n",
    "# ─── CONFIG ──────────────────────────────────────────────────────────────────────\n",
    "NVD_ROOT            = Path('../nvd/nvd_dataset_full')  # must have images/{train,val,test}, labels/{train,val,test}\n",
    "PCNVD_LABEL_DIR     = Path('PCNVD/Labels')\n",
    "PCNVD_IMAGE_DIR     = Path('PCNVD/Images_BIGBOY')\n",
    "OUT_ROOT            = Path('combined_yolo_dataset_full_no_aug')\n",
    "CLASS_NAMES         = ['car']\n",
    "MAX_BACKGROUND_RATIO = 0.01  # Maximum 20% of train images can be background-only\n",
    "\n",
    "# ─── HELPERS ──────────────────────────────────────────────────────────────────────\n",
    "\n",
    "def copy_split_from_nvd():\n",
    "    \"\"\"Copy pre-split NVD dataset to output directory, and count background-only train images.\"\"\"\n",
    "    nvd_background_count = 0\n",
    "    nvd_train_count = 0\n",
    "\n",
    "    for split in ['train', 'val', 'test']:\n",
    "        img_dir = NVD_ROOT / 'images' / split\n",
    "        lbl_dir = NVD_ROOT / 'labels' / split\n",
    "\n",
    "        for sub in [f'images/{split}', f'labels/{split}']:\n",
    "            (OUT_ROOT / sub).mkdir(parents=True, exist_ok=True)\n",
    "\n",
    "        img_files = sorted(img_dir.glob('*.[jp][pn]g'))\n",
    "        for img_path in img_files:\n",
    "            stem = img_path.stem\n",
    "            lbl_path = lbl_dir / f\"{stem}.txt\"\n",
    "            dst_img = OUT_ROOT / f'images/{split}/{img_path.name}'\n",
    "            dst_lbl = OUT_ROOT / f'labels/{split}/{stem}.txt'\n",
    "\n",
    "            shutil.copy(img_path, dst_img)\n",
    "            if lbl_path.exists():\n",
    "                shutil.copy(lbl_path, dst_lbl)\n",
    "                is_empty = lbl_path.stat().st_size == 0\n",
    "            else:\n",
    "                dst_lbl.write_text(\"\")\n",
    "                is_empty = True\n",
    "\n",
    "            if split == 'train':\n",
    "                nvd_train_count += 1\n",
    "                if is_empty:\n",
    "                    nvd_background_count += 1\n",
    "\n",
    "    return nvd_train_count, nvd_background_count\n",
    "\n",
    "def augment_train_with_pcnvd(current_total, current_background):\n",
    "    \"\"\"Augment training set with PCNVD images and labels, limiting total background ratio.\"\"\"\n",
    "    pcnvd_imgs = sorted([p for p in PCNVD_IMAGE_DIR.iterdir() if p.suffix.lower() in ['.jpg', '.png']])\n",
    "    random.shuffle(pcnvd_imgs)\n",
    "\n",
    "    total = current_total\n",
    "    background = current_background\n",
    "    added = 0\n",
    "\n",
    "    for img_path in pcnvd_imgs:\n",
    "        stem = img_path.stem\n",
    "        lbl_path = PCNVD_LABEL_DIR / f\"{stem}.txt\"\n",
    "        dst_img = OUT_ROOT / f\"images/train/{img_path.name}\"\n",
    "        dst_lbl = OUT_ROOT / f\"labels/train/{stem}.txt\"\n",
    "\n",
    "        if dst_img.exists():\n",
    "            # Allow duplicates by suffix\n",
    "            i = 1\n",
    "            while dst_img.exists():\n",
    "                dst_img = OUT_ROOT / f\"images/train/{stem}_{i}{img_path.suffix}\"\n",
    "                dst_lbl = OUT_ROOT / f\"labels/train/{stem}_{i}.txt\"\n",
    "                i += 1\n",
    "\n",
    "        if lbl_path.exists() and lbl_path.stat().st_size > 0:\n",
    "            shutil.copy(img_path, dst_img)\n",
    "            shutil.copy(lbl_path, dst_lbl)\n",
    "            total += 1\n",
    "            added += 1\n",
    "        else:\n",
    "            # Check if adding this would exceed 20% background limit\n",
    "            if (background + 1) / (total + 1) <= MAX_BACKGROUND_RATIO:\n",
    "                shutil.copy(img_path, dst_img)\n",
    "                dst_lbl.write_text(\"\")\n",
    "                background += 1\n",
    "                total += 1\n",
    "                added += 1\n",
    "            # else: skip this background image\n",
    "\n",
    "    print(f\"➕ Augmented {added} PCNVD images into training set.\")\n",
    "    print(f\"📊 Final train set: {total} images, {background} background-only ({(background / total):.2%})\")\n",
    "\n",
    "def write_data_yaml():\n",
    "    data = {\n",
    "        'path': str(OUT_ROOT.resolve()),\n",
    "        'train': 'images/train',\n",
    "        'val':   'images/val',\n",
    "        'test':  'images/test',\n",
    "        'names': CLASS_NAMES\n",
    "    }\n",
    "    with open(OUT_ROOT / 'data.yaml', 'w') as f:\n",
    "        yaml.dump(data, f, sort_keys=False)\n",
    "\n",
    "def prepare_dataset():\n",
    "    if OUT_ROOT.exists():\n",
    "        shutil.rmtree(OUT_ROOT)\n",
    "    print(\"📦 Copying main dataset from NVD...\")\n",
    "    nvd_total, nvd_background = copy_split_from_nvd()\n",
    "    print(f\"📊 NVD train images: {nvd_total}, background-only: {nvd_background} ({(nvd_background / nvd_total):.2%})\")\n",
    "    # print(\"🔁 Augmenting training set with PCNVD (enforcing 1% max background)...\")\n",
    "    # augment_train_with_pcnvd(nvd_total, nvd_background)\n",
    "    write_data_yaml()\n",
    "    print(f\"✅ Dataset prepared under {OUT_ROOT}\")\n",
    "\n",
    "\n",
    "if __name__ == \"__main__\":\n",
    "    random.seed(42)\n",
    "    prepare_dataset()\n"
   ]
  },
  {
   "cell_type": "code",
   "execution_count": 9,
   "id": "de12ef78-e3c6-4e1d-acd4-ab6a8bb57f3a",
   "metadata": {
    "scrolled": true
   },
   "outputs": [
    {
     "name": "stdout",
     "output_type": "stream",
     "text": [
      "New https://pypi.org/project/ultralytics/8.3.140 available 😃 Update with 'pip install -U ultralytics'\n",
      "WARNING ⚠️ 'label_smoothing' is deprecated and will be removed in in the future.\n",
      "Ultralytics 8.3.137 🚀 Python-3.11.11 torch-2.6.0+cu124 CUDA:0 (NVIDIA GeForce RTX 2080 Ti, 11005MiB)\n",
      "\u001b[34m\u001b[1mengine/trainer: \u001b[0magnostic_nms=False, amp=True, augment=True, auto_augment=randaugment, batch=16, bgr=0.0, box=0.5, cache=False, cfg=combined_yolo_dataset_full_no_aug/hyp.yaml, classes=None, close_mosaic=10, cls=0.05, conf=None, copy_paste=0.1, copy_paste_mode=flip, cos_lr=False, cutmix=0.0, data=combined_yolo_dataset_full_no_aug/data.yaml, degrees=5.0, deterministic=True, device=None, dfl=1.5, dnn=False, dropout=0.0, dynamic=False, embed=None, epochs=200, erasing=0.4, exist_ok=False, fliplr=0.5, flipud=0.0, format=torchscript, fraction=1.0, freeze=False, half=False, hsv_h=0.015, hsv_s=0.7, hsv_v=0.4, imgsz=640, int8=False, iou=0.7, keras=False, kobj=1.0, line_width=None, lr0=0.003, lrf=0.1, mask_ratio=4, max_det=300, mixup=0.2, mode=train, model=yolov8m.pt, momentum=0.937, mosaic=1.0, multi_scale=False, name=yolov8m_big_NVD_augment_less_background2, nbs=64, nms=False, opset=None, optimize=False, optimizer=AdamW, overlap_mask=True, patience=10, perspective=0.001, plots=True, pose=12.0, pretrained=True, profile=False, project=None, rect=False, resume=False, retina_masks=False, save=True, save_conf=False, save_crop=False, save_dir=runs/detect/yolov8m_big_NVD_augment_less_background2, save_frames=False, save_json=False, save_period=-1, save_txt=False, scale=0.4, seed=0, shear=2.0, show=False, show_boxes=True, show_conf=True, show_labels=True, simplify=True, single_cls=False, source=None, split=val, stream_buffer=False, task=detect, time=None, tracker=botsort.yaml, translate=0.1, val=True, verbose=True, vid_stride=1, visualize=False, warmup_bias_lr=0.1, warmup_epochs=3.0, warmup_momentum=0.8, weight_decay=0.0005, workers=8, workspace=None\n",
      "Overriding model.yaml nc=80 with nc=1\n",
      "\n",
      "                   from  n    params  module                                       arguments                     \n",
      "  0                  -1  1      1392  ultralytics.nn.modules.conv.Conv             [3, 48, 3, 2]                 \n",
      "  1                  -1  1     41664  ultralytics.nn.modules.conv.Conv             [48, 96, 3, 2]                \n",
      "  2                  -1  2    111360  ultralytics.nn.modules.block.C2f             [96, 96, 2, True]             \n",
      "  3                  -1  1    166272  ultralytics.nn.modules.conv.Conv             [96, 192, 3, 2]               \n",
      "  4                  -1  4    813312  ultralytics.nn.modules.block.C2f             [192, 192, 4, True]           \n",
      "  5                  -1  1    664320  ultralytics.nn.modules.conv.Conv             [192, 384, 3, 2]              \n",
      "  6                  -1  4   3248640  ultralytics.nn.modules.block.C2f             [384, 384, 4, True]           \n",
      "  7                  -1  1   1991808  ultralytics.nn.modules.conv.Conv             [384, 576, 3, 2]              \n",
      "  8                  -1  2   3985920  ultralytics.nn.modules.block.C2f             [576, 576, 2, True]           \n",
      "  9                  -1  1    831168  ultralytics.nn.modules.block.SPPF            [576, 576, 5]                 \n",
      " 10                  -1  1         0  torch.nn.modules.upsampling.Upsample         [None, 2, 'nearest']          \n",
      " 11             [-1, 6]  1         0  ultralytics.nn.modules.conv.Concat           [1]                           \n",
      " 12                  -1  2   1993728  ultralytics.nn.modules.block.C2f             [960, 384, 2]                 \n",
      " 13                  -1  1         0  torch.nn.modules.upsampling.Upsample         [None, 2, 'nearest']          \n",
      " 14             [-1, 4]  1         0  ultralytics.nn.modules.conv.Concat           [1]                           \n",
      " 15                  -1  2    517632  ultralytics.nn.modules.block.C2f             [576, 192, 2]                 \n",
      " 16                  -1  1    332160  ultralytics.nn.modules.conv.Conv             [192, 192, 3, 2]              \n",
      " 17            [-1, 12]  1         0  ultralytics.nn.modules.conv.Concat           [1]                           \n",
      " 18                  -1  2   1846272  ultralytics.nn.modules.block.C2f             [576, 384, 2]                 \n",
      " 19                  -1  1   1327872  ultralytics.nn.modules.conv.Conv             [384, 384, 3, 2]              \n",
      " 20             [-1, 9]  1         0  ultralytics.nn.modules.conv.Concat           [1]                           \n",
      " 21                  -1  2   4207104  ultralytics.nn.modules.block.C2f             [960, 576, 2]                 \n",
      " 22        [15, 18, 21]  1   3776275  ultralytics.nn.modules.head.Detect           [1, [192, 384, 576]]          \n",
      "Model summary: 169 layers, 25,856,899 parameters, 25,856,883 gradients, 79.1 GFLOPs\n",
      "\n",
      "Transferred 469/475 items from pretrained weights\n",
      "Freezing layer 'model.22.dfl.conv.weight'\n",
      "\u001b[34m\u001b[1mAMP: \u001b[0mrunning Automatic Mixed Precision (AMP) checks...\n",
      "\u001b[34m\u001b[1mAMP: \u001b[0mchecks passed ✅\n",
      "\u001b[34m\u001b[1mtrain: \u001b[0mFast image access ✅ (ping: 0.0±0.0 ms, read: 1473.9±1954.1 MB/s, size: 2935.7 KB)\n"
     ]
    },
    {
     "name": "stderr",
     "output_type": "stream",
     "text": [
      "\u001b[34m\u001b[1mtrain: \u001b[0mScanning /Project_NVD/combined_yolo_dataset_full_no_aug/labels/train... 4355 images, 0 backgrounds, 0 corrupt: 100%|██████████| 4355/4355 [07:11<00:00, 10.08it/s]\n"
     ]
    },
    {
     "name": "stdout",
     "output_type": "stream",
     "text": [
      "\u001b[34m\u001b[1mtrain: \u001b[0mNew cache created: /Project_NVD/combined_yolo_dataset_full_no_aug/labels/train.cache\n",
      "\u001b[34m\u001b[1malbumentations: \u001b[0mBlur(p=0.01, blur_limit=(3, 7)), MedianBlur(p=0.01, blur_limit=(3, 7)), ToGray(p=0.01, method='weighted_average', num_output_channels=3), CLAHE(p=0.01, clip_limit=(1.0, 4.0), tile_grid_size=(8, 8))\n",
      "\u001b[34m\u001b[1mval: \u001b[0mFast image access ✅ (ping: 0.0±0.0 ms, read: 16.0±7.8 MB/s, size: 3555.1 KB)\n"
     ]
    },
    {
     "name": "stderr",
     "output_type": "stream",
     "text": [
      "\u001b[34m\u001b[1mval: \u001b[0mScanning /Project_NVD/combined_yolo_dataset_full_no_aug/labels/val... 2904 images, 0 backgrounds, 0 corrupt: 100%|██████████| 2904/2904 [05:19<00:00,  9.09it/s]\n"
     ]
    },
    {
     "name": "stdout",
     "output_type": "stream",
     "text": [
      "\u001b[34m\u001b[1mval: \u001b[0mNew cache created: /Project_NVD/combined_yolo_dataset_full_no_aug/labels/val.cache\n",
      "Plotting labels to runs/detect/yolov8m_big_NVD_augment_less_background2/labels.jpg... \n",
      "\u001b[34m\u001b[1moptimizer:\u001b[0m AdamW(lr=0.003, momentum=0.937) with parameter groups 77 weight(decay=0.0), 84 weight(decay=0.0005), 83 bias(decay=0.0)\n",
      "Image sizes 640 train, 640 val\n",
      "Using 8 dataloader workers\n",
      "Logging results to \u001b[1mruns/detect/yolov8m_big_NVD_augment_less_background2\u001b[0m\n",
      "Starting training for 200 epochs...\n",
      "\n",
      "      Epoch    GPU_mem   box_loss   cls_loss   dfl_loss  Instances       Size\n"
     ]
    },
    {
     "name": "stderr",
     "output_type": "stream",
     "text": [
      "      1/200      6.22G      0.141     0.1963     0.9909         24        640: 100%|██████████| 273/273 [02:53<00:00,  1.58it/s]\n",
      "                 Class     Images  Instances      Box(P          R      mAP50  mAP50-95): 100%|██████████| 91/91 [02:50<00:00,  1.87s/it]\n"
     ]
    },
    {
     "name": "stdout",
     "output_type": "stream",
     "text": [
      "                   all       2904       9175      0.427      0.411      0.349      0.169\n",
      "\n",
      "      Epoch    GPU_mem   box_loss   cls_loss   dfl_loss  Instances       Size\n"
     ]
    },
    {
     "name": "stderr",
     "output_type": "stream",
     "text": [
      "      2/200      6.64G     0.1316     0.1633     0.9612         16        640: 100%|██████████| 273/273 [01:12<00:00,  3.75it/s]\n",
      "                 Class     Images  Instances      Box(P          R      mAP50  mAP50-95): 100%|██████████| 91/91 [00:22<00:00,  4.04it/s]\n"
     ]
    },
    {
     "name": "stdout",
     "output_type": "stream",
     "text": [
      "                   all       2904       9175      0.639      0.524      0.556      0.252\n",
      "\n",
      "      Epoch    GPU_mem   box_loss   cls_loss   dfl_loss  Instances       Size\n"
     ]
    },
    {
     "name": "stderr",
     "output_type": "stream",
     "text": [
      "      3/200      6.43G     0.1261     0.1507     0.9408         17        640: 100%|██████████| 273/273 [01:10<00:00,  3.87it/s]\n",
      "                 Class     Images  Instances      Box(P          R      mAP50  mAP50-95): 100%|██████████| 91/91 [00:15<00:00,  5.83it/s]\n"
     ]
    },
    {
     "name": "stdout",
     "output_type": "stream",
     "text": [
      "                   all       2904       9175      0.643      0.531      0.561      0.255\n",
      "\n",
      "      Epoch    GPU_mem   box_loss   cls_loss   dfl_loss  Instances       Size\n"
     ]
    },
    {
     "name": "stderr",
     "output_type": "stream",
     "text": [
      "      4/200      6.46G     0.1206      0.139     0.9258         28        640: 100%|██████████| 273/273 [01:10<00:00,  3.88it/s]\n",
      "                 Class     Images  Instances      Box(P          R      mAP50  mAP50-95): 100%|██████████| 91/91 [00:15<00:00,  5.86it/s]\n"
     ]
    },
    {
     "name": "stdout",
     "output_type": "stream",
     "text": [
      "                   all       2904       9175      0.771      0.706      0.767      0.437\n",
      "\n",
      "      Epoch    GPU_mem   box_loss   cls_loss   dfl_loss  Instances       Size\n"
     ]
    },
    {
     "name": "stderr",
     "output_type": "stream",
     "text": [
      "      5/200       6.5G     0.1167     0.1279     0.9146         12        640: 100%|██████████| 273/273 [01:10<00:00,  3.90it/s]\n",
      "                 Class     Images  Instances      Box(P          R      mAP50  mAP50-95): 100%|██████████| 91/91 [00:15<00:00,  5.90it/s]\n"
     ]
    },
    {
     "name": "stdout",
     "output_type": "stream",
     "text": [
      "                   all       2904       9175      0.882      0.787      0.874      0.528\n",
      "\n",
      "      Epoch    GPU_mem   box_loss   cls_loss   dfl_loss  Instances       Size\n"
     ]
    },
    {
     "name": "stderr",
     "output_type": "stream",
     "text": [
      "      6/200      6.49G     0.1117     0.1185     0.9016         30        640: 100%|██████████| 273/273 [01:10<00:00,  3.89it/s]\n",
      "                 Class     Images  Instances      Box(P          R      mAP50  mAP50-95): 100%|██████████| 91/91 [00:15<00:00,  5.86it/s]\n"
     ]
    },
    {
     "name": "stdout",
     "output_type": "stream",
     "text": [
      "                   all       2904       9175      0.894      0.816      0.891      0.513\n",
      "\n",
      "      Epoch    GPU_mem   box_loss   cls_loss   dfl_loss  Instances       Size\n"
     ]
    },
    {
     "name": "stderr",
     "output_type": "stream",
     "text": [
      "      7/200      6.39G     0.1107     0.1147     0.9009         32        640: 100%|██████████| 273/273 [01:10<00:00,  3.90it/s]\n",
      "                 Class     Images  Instances      Box(P          R      mAP50  mAP50-95): 100%|██████████| 91/91 [00:15<00:00,  5.96it/s]\n"
     ]
    },
    {
     "name": "stdout",
     "output_type": "stream",
     "text": [
      "                   all       2904       9175      0.911      0.831      0.912      0.567\n",
      "\n",
      "      Epoch    GPU_mem   box_loss   cls_loss   dfl_loss  Instances       Size\n"
     ]
    },
    {
     "name": "stderr",
     "output_type": "stream",
     "text": [
      "      8/200      6.44G     0.1057     0.1067     0.8887         15        640: 100%|██████████| 273/273 [01:10<00:00,  3.89it/s]\n",
      "                 Class     Images  Instances      Box(P          R      mAP50  mAP50-95): 100%|██████████| 91/91 [00:15<00:00,  5.92it/s]\n"
     ]
    },
    {
     "name": "stdout",
     "output_type": "stream",
     "text": [
      "                   all       2904       9175      0.886      0.814      0.891      0.534\n",
      "\n",
      "      Epoch    GPU_mem   box_loss   cls_loss   dfl_loss  Instances       Size\n"
     ]
    },
    {
     "name": "stderr",
     "output_type": "stream",
     "text": [
      "      9/200      6.41G     0.1054     0.1065     0.8848         14        640: 100%|██████████| 273/273 [01:10<00:00,  3.90it/s]\n",
      "                 Class     Images  Instances      Box(P          R      mAP50  mAP50-95): 100%|██████████| 91/91 [00:15<00:00,  5.93it/s]\n"
     ]
    },
    {
     "name": "stdout",
     "output_type": "stream",
     "text": [
      "                   all       2904       9175      0.905      0.855      0.918      0.538\n",
      "\n",
      "      Epoch    GPU_mem   box_loss   cls_loss   dfl_loss  Instances       Size\n"
     ]
    },
    {
     "name": "stderr",
     "output_type": "stream",
     "text": [
      "     10/200      6.38G      0.103     0.1013     0.8841         13        640: 100%|██████████| 273/273 [01:10<00:00,  3.90it/s]\n",
      "                 Class     Images  Instances      Box(P          R      mAP50  mAP50-95): 100%|██████████| 91/91 [00:15<00:00,  5.97it/s]\n"
     ]
    },
    {
     "name": "stdout",
     "output_type": "stream",
     "text": [
      "                   all       2904       9175       0.94      0.884      0.944       0.54\n",
      "\n",
      "      Epoch    GPU_mem   box_loss   cls_loss   dfl_loss  Instances       Size\n"
     ]
    },
    {
     "name": "stderr",
     "output_type": "stream",
     "text": [
      "     11/200      6.59G     0.1004    0.09728     0.8756          9        640: 100%|██████████| 273/273 [01:10<00:00,  3.89it/s]\n",
      "                 Class     Images  Instances      Box(P          R      mAP50  mAP50-95): 100%|██████████| 91/91 [00:15<00:00,  5.91it/s]\n"
     ]
    },
    {
     "name": "stdout",
     "output_type": "stream",
     "text": [
      "                   all       2904       9175      0.921      0.856      0.928      0.592\n",
      "\n",
      "      Epoch    GPU_mem   box_loss   cls_loss   dfl_loss  Instances       Size\n"
     ]
    },
    {
     "name": "stderr",
     "output_type": "stream",
     "text": [
      "     12/200      6.44G    0.09999    0.09517     0.8698         20        640: 100%|██████████| 273/273 [01:10<00:00,  3.89it/s]\n",
      "                 Class     Images  Instances      Box(P          R      mAP50  mAP50-95): 100%|██████████| 91/91 [00:15<00:00,  5.91it/s]\n"
     ]
    },
    {
     "name": "stdout",
     "output_type": "stream",
     "text": [
      "                   all       2904       9175       0.94      0.899      0.951      0.594\n",
      "\n",
      "      Epoch    GPU_mem   box_loss   cls_loss   dfl_loss  Instances       Size\n"
     ]
    },
    {
     "name": "stderr",
     "output_type": "stream",
     "text": [
      "     13/200      6.43G    0.09815    0.09253       0.87          7        640: 100%|██████████| 273/273 [01:09<00:00,  3.90it/s]\n",
      "                 Class     Images  Instances      Box(P          R      mAP50  mAP50-95): 100%|██████████| 91/91 [00:15<00:00,  5.86it/s]\n"
     ]
    },
    {
     "name": "stdout",
     "output_type": "stream",
     "text": [
      "                   all       2904       9175      0.948      0.907      0.957      0.631\n",
      "\n",
      "      Epoch    GPU_mem   box_loss   cls_loss   dfl_loss  Instances       Size\n"
     ]
    },
    {
     "name": "stderr",
     "output_type": "stream",
     "text": [
      "     14/200      6.43G     0.0972    0.09258     0.8672         14        640: 100%|██████████| 273/273 [01:10<00:00,  3.89it/s]\n",
      "                 Class     Images  Instances      Box(P          R      mAP50  mAP50-95): 100%|██████████| 91/91 [00:15<00:00,  5.92it/s]\n"
     ]
    },
    {
     "name": "stdout",
     "output_type": "stream",
     "text": [
      "                   all       2904       9175      0.943      0.901      0.955       0.62\n",
      "\n",
      "      Epoch    GPU_mem   box_loss   cls_loss   dfl_loss  Instances       Size\n"
     ]
    },
    {
     "name": "stderr",
     "output_type": "stream",
     "text": [
      "     15/200      6.61G     0.0959    0.09002     0.8691         26        640: 100%|██████████| 273/273 [01:09<00:00,  3.90it/s]\n",
      "                 Class     Images  Instances      Box(P          R      mAP50  mAP50-95): 100%|██████████| 91/91 [00:15<00:00,  5.93it/s]\n"
     ]
    },
    {
     "name": "stdout",
     "output_type": "stream",
     "text": [
      "                   all       2904       9175      0.946      0.909      0.958      0.645\n",
      "\n",
      "      Epoch    GPU_mem   box_loss   cls_loss   dfl_loss  Instances       Size\n"
     ]
    },
    {
     "name": "stderr",
     "output_type": "stream",
     "text": [
      "     16/200      6.44G     0.0937    0.08577      0.863         19        640: 100%|██████████| 273/273 [01:10<00:00,  3.89it/s]\n",
      "                 Class     Images  Instances      Box(P          R      mAP50  mAP50-95): 100%|██████████| 91/91 [00:15<00:00,  5.94it/s]\n"
     ]
    },
    {
     "name": "stdout",
     "output_type": "stream",
     "text": [
      "                   all       2904       9175      0.942      0.895      0.949      0.616\n",
      "\n",
      "      Epoch    GPU_mem   box_loss   cls_loss   dfl_loss  Instances       Size\n"
     ]
    },
    {
     "name": "stderr",
     "output_type": "stream",
     "text": [
      "     17/200      6.43G    0.09343    0.08429     0.8618         17        640: 100%|██████████| 273/273 [01:09<00:00,  3.90it/s]\n",
      "                 Class     Images  Instances      Box(P          R      mAP50  mAP50-95): 100%|██████████| 91/91 [00:15<00:00,  5.98it/s]\n"
     ]
    },
    {
     "name": "stdout",
     "output_type": "stream",
     "text": [
      "                   all       2904       9175      0.955      0.909      0.962      0.608\n",
      "\n",
      "      Epoch    GPU_mem   box_loss   cls_loss   dfl_loss  Instances       Size\n"
     ]
    },
    {
     "name": "stderr",
     "output_type": "stream",
     "text": [
      "     18/200      6.36G    0.09285    0.08422      0.859         14        640: 100%|██████████| 273/273 [01:09<00:00,  3.90it/s]\n",
      "                 Class     Images  Instances      Box(P          R      mAP50  mAP50-95): 100%|██████████| 91/91 [00:15<00:00,  5.93it/s]\n"
     ]
    },
    {
     "name": "stdout",
     "output_type": "stream",
     "text": [
      "                   all       2904       9175       0.96      0.928       0.97      0.664\n",
      "\n",
      "      Epoch    GPU_mem   box_loss   cls_loss   dfl_loss  Instances       Size\n"
     ]
    },
    {
     "name": "stderr",
     "output_type": "stream",
     "text": [
      "     19/200      6.34G    0.09293    0.08472     0.8616         32        640: 100%|██████████| 273/273 [01:09<00:00,  3.90it/s]\n",
      "                 Class     Images  Instances      Box(P          R      mAP50  mAP50-95): 100%|██████████| 91/91 [00:15<00:00,  5.85it/s]\n"
     ]
    },
    {
     "name": "stdout",
     "output_type": "stream",
     "text": [
      "                   all       2904       9175      0.958      0.927      0.969      0.663\n",
      "\n",
      "      Epoch    GPU_mem   box_loss   cls_loss   dfl_loss  Instances       Size\n"
     ]
    },
    {
     "name": "stderr",
     "output_type": "stream",
     "text": [
      "     20/200      6.41G    0.09211    0.08148     0.8551         19        640: 100%|██████████| 273/273 [01:09<00:00,  3.90it/s]\n",
      "                 Class     Images  Instances      Box(P          R      mAP50  mAP50-95): 100%|██████████| 91/91 [00:15<00:00,  5.93it/s]\n"
     ]
    },
    {
     "name": "stdout",
     "output_type": "stream",
     "text": [
      "                   all       2904       9175      0.961      0.931      0.971      0.653\n",
      "\n",
      "      Epoch    GPU_mem   box_loss   cls_loss   dfl_loss  Instances       Size\n"
     ]
    },
    {
     "name": "stderr",
     "output_type": "stream",
     "text": [
      "     21/200      6.42G     0.0898    0.08062     0.8527          5        640: 100%|██████████| 273/273 [01:10<00:00,  3.90it/s]\n",
      "                 Class     Images  Instances      Box(P          R      mAP50  mAP50-95): 100%|██████████| 91/91 [00:15<00:00,  6.01it/s]\n"
     ]
    },
    {
     "name": "stdout",
     "output_type": "stream",
     "text": [
      "                   all       2904       9175      0.957      0.936      0.971      0.658\n",
      "\n",
      "      Epoch    GPU_mem   box_loss   cls_loss   dfl_loss  Instances       Size\n"
     ]
    },
    {
     "name": "stderr",
     "output_type": "stream",
     "text": [
      "     22/200      6.42G    0.09027     0.0817     0.8543         20        640: 100%|██████████| 273/273 [01:10<00:00,  3.90it/s]\n",
      "                 Class     Images  Instances      Box(P          R      mAP50  mAP50-95): 100%|██████████| 91/91 [00:15<00:00,  5.92it/s]"
     ]
    },
    {
     "name": "stdout",
     "output_type": "stream",
     "text": [
      "                   all       2904       9175      0.962      0.934      0.974      0.693\n"
     ]
    },
    {
     "name": "stderr",
     "output_type": "stream",
     "text": [
      "\n"
     ]
    },
    {
     "name": "stdout",
     "output_type": "stream",
     "text": [
      "\n",
      "      Epoch    GPU_mem   box_loss   cls_loss   dfl_loss  Instances       Size\n"
     ]
    },
    {
     "name": "stderr",
     "output_type": "stream",
     "text": [
      "     23/200      6.55G     0.0885    0.07775     0.8521          9        640: 100%|██████████| 273/273 [01:09<00:00,  3.91it/s]\n",
      "                 Class     Images  Instances      Box(P          R      mAP50  mAP50-95): 100%|██████████| 91/91 [00:15<00:00,  5.96it/s]"
     ]
    },
    {
     "name": "stdout",
     "output_type": "stream",
     "text": [
      "                   all       2904       9175      0.961      0.935      0.973      0.662\n"
     ]
    },
    {
     "name": "stderr",
     "output_type": "stream",
     "text": [
      "\n"
     ]
    },
    {
     "name": "stdout",
     "output_type": "stream",
     "text": [
      "\n",
      "      Epoch    GPU_mem   box_loss   cls_loss   dfl_loss  Instances       Size\n"
     ]
    },
    {
     "name": "stderr",
     "output_type": "stream",
     "text": [
      "     24/200      6.44G    0.08842    0.07728     0.8503         13        640: 100%|██████████| 273/273 [01:10<00:00,  3.89it/s]\n",
      "                 Class     Images  Instances      Box(P          R      mAP50  mAP50-95): 100%|██████████| 91/91 [00:15<00:00,  5.91it/s]\n"
     ]
    },
    {
     "name": "stdout",
     "output_type": "stream",
     "text": [
      "                   all       2904       9175      0.952      0.924      0.964      0.635\n",
      "\n",
      "      Epoch    GPU_mem   box_loss   cls_loss   dfl_loss  Instances       Size\n"
     ]
    },
    {
     "name": "stderr",
     "output_type": "stream",
     "text": [
      "     25/200      6.49G    0.08841    0.07752      0.849         14        640: 100%|██████████| 273/273 [01:09<00:00,  3.90it/s]\n",
      "                 Class     Images  Instances      Box(P          R      mAP50  mAP50-95): 100%|██████████| 91/91 [00:15<00:00,  5.91it/s]"
     ]
    },
    {
     "name": "stdout",
     "output_type": "stream",
     "text": [
      "                   all       2904       9175      0.965      0.938      0.976      0.697\n"
     ]
    },
    {
     "name": "stderr",
     "output_type": "stream",
     "text": [
      "\n"
     ]
    },
    {
     "name": "stdout",
     "output_type": "stream",
     "text": [
      "\n",
      "      Epoch    GPU_mem   box_loss   cls_loss   dfl_loss  Instances       Size\n"
     ]
    },
    {
     "name": "stderr",
     "output_type": "stream",
     "text": [
      "     26/200       6.5G    0.08714    0.07523     0.8491         13        640: 100%|██████████| 273/273 [01:10<00:00,  3.90it/s]\n",
      "                 Class     Images  Instances      Box(P          R      mAP50  mAP50-95): 100%|██████████| 91/91 [00:15<00:00,  5.96it/s]"
     ]
    },
    {
     "name": "stdout",
     "output_type": "stream",
     "text": [
      "                   all       2904       9175      0.966      0.943      0.977        0.7\n"
     ]
    },
    {
     "name": "stderr",
     "output_type": "stream",
     "text": [
      "\n"
     ]
    },
    {
     "name": "stdout",
     "output_type": "stream",
     "text": [
      "\n",
      "      Epoch    GPU_mem   box_loss   cls_loss   dfl_loss  Instances       Size\n"
     ]
    },
    {
     "name": "stderr",
     "output_type": "stream",
     "text": [
      "     27/200      6.54G    0.08565    0.07551     0.8454         17        640: 100%|██████████| 273/273 [01:10<00:00,  3.90it/s]\n",
      "                 Class     Images  Instances      Box(P          R      mAP50  mAP50-95): 100%|██████████| 91/91 [00:15<00:00,  5.88it/s]"
     ]
    },
    {
     "name": "stdout",
     "output_type": "stream",
     "text": [
      "                   all       2904       9175      0.965       0.94      0.977      0.669\n"
     ]
    },
    {
     "name": "stderr",
     "output_type": "stream",
     "text": [
      "\n"
     ]
    },
    {
     "name": "stdout",
     "output_type": "stream",
     "text": [
      "\n",
      "      Epoch    GPU_mem   box_loss   cls_loss   dfl_loss  Instances       Size\n"
     ]
    },
    {
     "name": "stderr",
     "output_type": "stream",
     "text": [
      "     28/200      6.42G    0.08724    0.07481      0.849         32        640: 100%|██████████| 273/273 [01:09<00:00,  3.91it/s]\n",
      "                 Class     Images  Instances      Box(P          R      mAP50  mAP50-95): 100%|██████████| 91/91 [00:15<00:00,  5.88it/s]\n"
     ]
    },
    {
     "name": "stdout",
     "output_type": "stream",
     "text": [
      "                   all       2904       9175      0.965      0.931      0.972      0.683\n",
      "\n",
      "      Epoch    GPU_mem   box_loss   cls_loss   dfl_loss  Instances       Size\n"
     ]
    },
    {
     "name": "stderr",
     "output_type": "stream",
     "text": [
      "     29/200       6.5G    0.08505    0.07268     0.8443         13        640: 100%|██████████| 273/273 [01:09<00:00,  3.91it/s]\n",
      "                 Class     Images  Instances      Box(P          R      mAP50  mAP50-95): 100%|██████████| 91/91 [00:15<00:00,  5.92it/s]\n"
     ]
    },
    {
     "name": "stdout",
     "output_type": "stream",
     "text": [
      "                   all       2904       9175      0.961      0.928      0.972      0.694\n",
      "\n",
      "      Epoch    GPU_mem   box_loss   cls_loss   dfl_loss  Instances       Size\n"
     ]
    },
    {
     "name": "stderr",
     "output_type": "stream",
     "text": [
      "     30/200      6.49G    0.08507    0.07326     0.8425         35        640: 100%|██████████| 273/273 [01:10<00:00,  3.90it/s]\n",
      "                 Class     Images  Instances      Box(P          R      mAP50  mAP50-95): 100%|██████████| 91/91 [00:15<00:00,  5.92it/s]"
     ]
    },
    {
     "name": "stdout",
     "output_type": "stream",
     "text": [
      "                   all       2904       9175      0.966      0.944      0.978      0.718\n"
     ]
    },
    {
     "name": "stderr",
     "output_type": "stream",
     "text": [
      "\n"
     ]
    },
    {
     "name": "stdout",
     "output_type": "stream",
     "text": [
      "\n",
      "      Epoch    GPU_mem   box_loss   cls_loss   dfl_loss  Instances       Size\n"
     ]
    },
    {
     "name": "stderr",
     "output_type": "stream",
     "text": [
      "     31/200      6.39G    0.08493    0.07314     0.8432         13        640: 100%|██████████| 273/273 [01:09<00:00,  3.90it/s]\n",
      "                 Class     Images  Instances      Box(P          R      mAP50  mAP50-95): 100%|██████████| 91/91 [00:15<00:00,  5.92it/s]\n"
     ]
    },
    {
     "name": "stdout",
     "output_type": "stream",
     "text": [
      "                   all       2904       9175      0.965      0.942      0.975      0.699\n",
      "\n",
      "      Epoch    GPU_mem   box_loss   cls_loss   dfl_loss  Instances       Size\n"
     ]
    },
    {
     "name": "stderr",
     "output_type": "stream",
     "text": [
      "     32/200      6.44G     0.0844     0.0726      0.843         19        640: 100%|██████████| 273/273 [01:09<00:00,  3.90it/s]\n",
      "                 Class     Images  Instances      Box(P          R      mAP50  mAP50-95): 100%|██████████| 91/91 [00:15<00:00,  5.94it/s]"
     ]
    },
    {
     "name": "stdout",
     "output_type": "stream",
     "text": [
      "                   all       2904       9175      0.966      0.935      0.975      0.692\n"
     ]
    },
    {
     "name": "stderr",
     "output_type": "stream",
     "text": [
      "\n"
     ]
    },
    {
     "name": "stdout",
     "output_type": "stream",
     "text": [
      "\n",
      "      Epoch    GPU_mem   box_loss   cls_loss   dfl_loss  Instances       Size\n"
     ]
    },
    {
     "name": "stderr",
     "output_type": "stream",
     "text": [
      "     33/200      6.49G     0.0846    0.07145      0.841         17        640: 100%|██████████| 273/273 [01:09<00:00,  3.90it/s]\n",
      "                 Class     Images  Instances      Box(P          R      mAP50  mAP50-95): 100%|██████████| 91/91 [00:15<00:00,  5.87it/s]"
     ]
    },
    {
     "name": "stdout",
     "output_type": "stream",
     "text": [
      "                   all       2904       9175      0.972      0.945      0.978       0.71\n"
     ]
    },
    {
     "name": "stderr",
     "output_type": "stream",
     "text": [
      "\n"
     ]
    },
    {
     "name": "stdout",
     "output_type": "stream",
     "text": [
      "\n",
      "      Epoch    GPU_mem   box_loss   cls_loss   dfl_loss  Instances       Size\n"
     ]
    },
    {
     "name": "stderr",
     "output_type": "stream",
     "text": [
      "     34/200      6.41G    0.08274    0.06939     0.8404         14        640: 100%|██████████| 273/273 [01:10<00:00,  3.90it/s]\n",
      "                 Class     Images  Instances      Box(P          R      mAP50  mAP50-95): 100%|██████████| 91/91 [00:15<00:00,  5.93it/s]\n"
     ]
    },
    {
     "name": "stdout",
     "output_type": "stream",
     "text": [
      "                   all       2904       9175      0.965      0.943      0.977      0.691\n",
      "\n",
      "      Epoch    GPU_mem   box_loss   cls_loss   dfl_loss  Instances       Size\n"
     ]
    },
    {
     "name": "stderr",
     "output_type": "stream",
     "text": [
      "     35/200      6.54G    0.08309    0.07012     0.8406         14        640: 100%|██████████| 273/273 [01:09<00:00,  3.90it/s]\n",
      "                 Class     Images  Instances      Box(P          R      mAP50  mAP50-95): 100%|██████████| 91/91 [00:15<00:00,  5.94it/s]"
     ]
    },
    {
     "name": "stdout",
     "output_type": "stream",
     "text": [
      "                   all       2904       9175      0.965      0.942      0.979      0.722\n"
     ]
    },
    {
     "name": "stderr",
     "output_type": "stream",
     "text": [
      "\n"
     ]
    },
    {
     "name": "stdout",
     "output_type": "stream",
     "text": [
      "\n",
      "      Epoch    GPU_mem   box_loss   cls_loss   dfl_loss  Instances       Size\n"
     ]
    },
    {
     "name": "stderr",
     "output_type": "stream",
     "text": [
      "     36/200      6.44G    0.08176    0.06918      0.838         14        640: 100%|██████████| 273/273 [01:10<00:00,  3.90it/s]\n",
      "                 Class     Images  Instances      Box(P          R      mAP50  mAP50-95): 100%|██████████| 91/91 [00:15<00:00,  5.85it/s]"
     ]
    },
    {
     "name": "stdout",
     "output_type": "stream",
     "text": [
      "                   all       2904       9175      0.972      0.943      0.978      0.714\n"
     ]
    },
    {
     "name": "stderr",
     "output_type": "stream",
     "text": [
      "\n"
     ]
    },
    {
     "name": "stdout",
     "output_type": "stream",
     "text": [
      "\n",
      "      Epoch    GPU_mem   box_loss   cls_loss   dfl_loss  Instances       Size\n"
     ]
    },
    {
     "name": "stderr",
     "output_type": "stream",
     "text": [
      "     37/200      6.41G    0.08106    0.06809     0.8389         11        640: 100%|██████████| 273/273 [01:09<00:00,  3.91it/s]\n",
      "                 Class     Images  Instances      Box(P          R      mAP50  mAP50-95): 100%|██████████| 91/91 [00:15<00:00,  5.94it/s]"
     ]
    },
    {
     "name": "stdout",
     "output_type": "stream",
     "text": [
      "                   all       2904       9175      0.969      0.948       0.98      0.706\n"
     ]
    },
    {
     "name": "stderr",
     "output_type": "stream",
     "text": [
      "\n"
     ]
    },
    {
     "name": "stdout",
     "output_type": "stream",
     "text": [
      "\n",
      "      Epoch    GPU_mem   box_loss   cls_loss   dfl_loss  Instances       Size\n"
     ]
    },
    {
     "name": "stderr",
     "output_type": "stream",
     "text": [
      "     38/200      6.37G    0.08289    0.07015     0.8387         23        640: 100%|██████████| 273/273 [01:10<00:00,  3.89it/s]\n",
      "                 Class     Images  Instances      Box(P          R      mAP50  mAP50-95): 100%|██████████| 91/91 [00:15<00:00,  5.90it/s]"
     ]
    },
    {
     "name": "stdout",
     "output_type": "stream",
     "text": [
      "                   all       2904       9175      0.973      0.939      0.977      0.727\n"
     ]
    },
    {
     "name": "stderr",
     "output_type": "stream",
     "text": [
      "\n"
     ]
    },
    {
     "name": "stdout",
     "output_type": "stream",
     "text": [
      "\n",
      "      Epoch    GPU_mem   box_loss   cls_loss   dfl_loss  Instances       Size\n"
     ]
    },
    {
     "name": "stderr",
     "output_type": "stream",
     "text": [
      "     39/200      6.54G    0.08071    0.06726     0.8358         16        640: 100%|██████████| 273/273 [01:09<00:00,  3.90it/s]\n",
      "                 Class     Images  Instances      Box(P          R      mAP50  mAP50-95): 100%|██████████| 91/91 [00:15<00:00,  5.99it/s]"
     ]
    },
    {
     "name": "stdout",
     "output_type": "stream",
     "text": [
      "                   all       2904       9175      0.968      0.942      0.976      0.717\n"
     ]
    },
    {
     "name": "stderr",
     "output_type": "stream",
     "text": [
      "\n"
     ]
    },
    {
     "name": "stdout",
     "output_type": "stream",
     "text": [
      "\n",
      "      Epoch    GPU_mem   box_loss   cls_loss   dfl_loss  Instances       Size\n"
     ]
    },
    {
     "name": "stderr",
     "output_type": "stream",
     "text": [
      "     40/200      6.43G    0.08064    0.06688     0.8371         16        640: 100%|██████████| 273/273 [01:09<00:00,  3.91it/s]\n",
      "                 Class     Images  Instances      Box(P          R      mAP50  mAP50-95): 100%|██████████| 91/91 [00:15<00:00,  5.91it/s]"
     ]
    },
    {
     "name": "stdout",
     "output_type": "stream",
     "text": [
      "                   all       2904       9175      0.973      0.945      0.978      0.713\n"
     ]
    },
    {
     "name": "stderr",
     "output_type": "stream",
     "text": [
      "\n"
     ]
    },
    {
     "name": "stdout",
     "output_type": "stream",
     "text": [
      "\n",
      "      Epoch    GPU_mem   box_loss   cls_loss   dfl_loss  Instances       Size\n"
     ]
    },
    {
     "name": "stderr",
     "output_type": "stream",
     "text": [
      "     41/200      6.43G     0.0808    0.06791     0.8358         19        640: 100%|██████████| 273/273 [01:10<00:00,  3.89it/s]\n",
      "                 Class     Images  Instances      Box(P          R      mAP50  mAP50-95): 100%|██████████| 91/91 [00:15<00:00,  5.92it/s]\n"
     ]
    },
    {
     "name": "stdout",
     "output_type": "stream",
     "text": [
      "                   all       2904       9175       0.97      0.941      0.976      0.715\n",
      "\n",
      "      Epoch    GPU_mem   box_loss   cls_loss   dfl_loss  Instances       Size\n"
     ]
    },
    {
     "name": "stderr",
     "output_type": "stream",
     "text": [
      "     42/200      6.48G     0.0803      0.067     0.8357         18        640: 100%|██████████| 273/273 [01:10<00:00,  3.90it/s]\n",
      "                 Class     Images  Instances      Box(P          R      mAP50  mAP50-95): 100%|██████████| 91/91 [00:15<00:00,  5.93it/s]"
     ]
    },
    {
     "name": "stdout",
     "output_type": "stream",
     "text": [
      "                   all       2904       9175      0.975      0.949      0.982      0.727\n"
     ]
    },
    {
     "name": "stderr",
     "output_type": "stream",
     "text": [
      "\n"
     ]
    },
    {
     "name": "stdout",
     "output_type": "stream",
     "text": [
      "\n",
      "      Epoch    GPU_mem   box_loss   cls_loss   dfl_loss  Instances       Size\n"
     ]
    },
    {
     "name": "stderr",
     "output_type": "stream",
     "text": [
      "     43/200      6.39G    0.08006    0.06647     0.8336         17        640: 100%|██████████| 273/273 [01:09<00:00,  3.90it/s]\n",
      "                 Class     Images  Instances      Box(P          R      mAP50  mAP50-95): 100%|██████████| 91/91 [00:15<00:00,  5.96it/s]"
     ]
    },
    {
     "name": "stdout",
     "output_type": "stream",
     "text": [
      "                   all       2904       9175      0.974      0.952      0.981      0.746\n"
     ]
    },
    {
     "name": "stderr",
     "output_type": "stream",
     "text": [
      "\n"
     ]
    },
    {
     "name": "stdout",
     "output_type": "stream",
     "text": [
      "\n",
      "      Epoch    GPU_mem   box_loss   cls_loss   dfl_loss  Instances       Size\n"
     ]
    },
    {
     "name": "stderr",
     "output_type": "stream",
     "text": [
      "     44/200      6.43G    0.07911    0.06673     0.8347          7        640: 100%|██████████| 273/273 [01:09<00:00,  3.90it/s]\n",
      "                 Class     Images  Instances      Box(P          R      mAP50  mAP50-95): 100%|██████████| 91/91 [00:15<00:00,  5.92it/s]"
     ]
    },
    {
     "name": "stdout",
     "output_type": "stream",
     "text": [
      "                   all       2904       9175       0.97      0.931      0.975      0.716\n"
     ]
    },
    {
     "name": "stderr",
     "output_type": "stream",
     "text": [
      "\n"
     ]
    },
    {
     "name": "stdout",
     "output_type": "stream",
     "text": [
      "\n",
      "      Epoch    GPU_mem   box_loss   cls_loss   dfl_loss  Instances       Size\n"
     ]
    },
    {
     "name": "stderr",
     "output_type": "stream",
     "text": [
      "     45/200      6.43G    0.07834    0.06409     0.8343         18        640: 100%|██████████| 273/273 [01:09<00:00,  3.90it/s]\n",
      "                 Class     Images  Instances      Box(P          R      mAP50  mAP50-95): 100%|██████████| 91/91 [00:15<00:00,  5.97it/s]"
     ]
    },
    {
     "name": "stdout",
     "output_type": "stream",
     "text": [
      "                   all       2904       9175      0.972      0.955      0.982      0.728\n"
     ]
    },
    {
     "name": "stderr",
     "output_type": "stream",
     "text": [
      "\n"
     ]
    },
    {
     "name": "stdout",
     "output_type": "stream",
     "text": [
      "\n",
      "      Epoch    GPU_mem   box_loss   cls_loss   dfl_loss  Instances       Size\n"
     ]
    },
    {
     "name": "stderr",
     "output_type": "stream",
     "text": [
      "     46/200      6.42G    0.07891    0.06616     0.8325         12        640: 100%|██████████| 273/273 [01:10<00:00,  3.90it/s]\n",
      "                 Class     Images  Instances      Box(P          R      mAP50  mAP50-95): 100%|██████████| 91/91 [00:15<00:00,  5.91it/s]\n"
     ]
    },
    {
     "name": "stdout",
     "output_type": "stream",
     "text": [
      "                   all       2904       9175      0.974      0.949      0.981      0.732\n",
      "\n",
      "      Epoch    GPU_mem   box_loss   cls_loss   dfl_loss  Instances       Size\n"
     ]
    },
    {
     "name": "stderr",
     "output_type": "stream",
     "text": [
      "     47/200       6.3G    0.07973    0.06682     0.8352         44        640: 100%|██████████| 273/273 [01:09<00:00,  3.90it/s]\n",
      "                 Class     Images  Instances      Box(P          R      mAP50  mAP50-95): 100%|██████████| 91/91 [00:15<00:00,  5.86it/s]"
     ]
    },
    {
     "name": "stdout",
     "output_type": "stream",
     "text": [
      "                   all       2904       9175      0.971      0.949       0.98      0.737\n"
     ]
    },
    {
     "name": "stderr",
     "output_type": "stream",
     "text": [
      "\n"
     ]
    },
    {
     "name": "stdout",
     "output_type": "stream",
     "text": [
      "\n",
      "      Epoch    GPU_mem   box_loss   cls_loss   dfl_loss  Instances       Size\n"
     ]
    },
    {
     "name": "stderr",
     "output_type": "stream",
     "text": [
      "     48/200      6.44G    0.07831    0.06528     0.8332         22        640: 100%|██████████| 273/273 [01:09<00:00,  3.90it/s]\n",
      "                 Class     Images  Instances      Box(P          R      mAP50  mAP50-95): 100%|██████████| 91/91 [00:15<00:00,  5.95it/s]"
     ]
    },
    {
     "name": "stdout",
     "output_type": "stream",
     "text": [
      "                   all       2904       9175      0.965      0.941      0.977      0.722\n"
     ]
    },
    {
     "name": "stderr",
     "output_type": "stream",
     "text": [
      "\n"
     ]
    },
    {
     "name": "stdout",
     "output_type": "stream",
     "text": [
      "\n",
      "      Epoch    GPU_mem   box_loss   cls_loss   dfl_loss  Instances       Size\n"
     ]
    },
    {
     "name": "stderr",
     "output_type": "stream",
     "text": [
      "     49/200      6.39G    0.07763    0.06371     0.8306         26        640: 100%|██████████| 273/273 [01:10<00:00,  3.90it/s]\n",
      "                 Class     Images  Instances      Box(P          R      mAP50  mAP50-95): 100%|██████████| 91/91 [00:15<00:00,  5.93it/s]\n"
     ]
    },
    {
     "name": "stdout",
     "output_type": "stream",
     "text": [
      "                   all       2904       9175      0.971      0.941      0.978      0.727\n",
      "\n",
      "      Epoch    GPU_mem   box_loss   cls_loss   dfl_loss  Instances       Size\n"
     ]
    },
    {
     "name": "stderr",
     "output_type": "stream",
     "text": [
      "     50/200      6.48G    0.07663    0.06336     0.8306         30        640: 100%|██████████| 273/273 [01:09<00:00,  3.90it/s]\n",
      "                 Class     Images  Instances      Box(P          R      mAP50  mAP50-95): 100%|██████████| 91/91 [00:15<00:00,  5.93it/s]"
     ]
    },
    {
     "name": "stdout",
     "output_type": "stream",
     "text": [
      "                   all       2904       9175       0.97      0.935      0.976      0.732\n"
     ]
    },
    {
     "name": "stderr",
     "output_type": "stream",
     "text": [
      "\n"
     ]
    },
    {
     "name": "stdout",
     "output_type": "stream",
     "text": [
      "\n",
      "      Epoch    GPU_mem   box_loss   cls_loss   dfl_loss  Instances       Size\n"
     ]
    },
    {
     "name": "stderr",
     "output_type": "stream",
     "text": [
      "     51/200      6.33G    0.07676    0.06252       0.83         16        640: 100%|██████████| 273/273 [01:09<00:00,  3.90it/s]\n",
      "                 Class     Images  Instances      Box(P          R      mAP50  mAP50-95): 100%|██████████| 91/91 [00:15<00:00,  5.95it/s]"
     ]
    },
    {
     "name": "stdout",
     "output_type": "stream",
     "text": [
      "                   all       2904       9175      0.968      0.948      0.981      0.742\n"
     ]
    },
    {
     "name": "stderr",
     "output_type": "stream",
     "text": [
      "\n"
     ]
    },
    {
     "name": "stdout",
     "output_type": "stream",
     "text": [
      "\n",
      "      Epoch    GPU_mem   box_loss   cls_loss   dfl_loss  Instances       Size\n"
     ]
    },
    {
     "name": "stderr",
     "output_type": "stream",
     "text": [
      "     52/200      6.44G    0.07664    0.06367     0.8292         16        640: 100%|██████████| 273/273 [01:10<00:00,  3.90it/s]\n",
      "                 Class     Images  Instances      Box(P          R      mAP50  mAP50-95): 100%|██████████| 91/91 [00:15<00:00,  5.95it/s]"
     ]
    },
    {
     "name": "stdout",
     "output_type": "stream",
     "text": [
      "                   all       2904       9175       0.97      0.945      0.981      0.753\n"
     ]
    },
    {
     "name": "stderr",
     "output_type": "stream",
     "text": [
      "\n"
     ]
    },
    {
     "name": "stdout",
     "output_type": "stream",
     "text": [
      "\n",
      "      Epoch    GPU_mem   box_loss   cls_loss   dfl_loss  Instances       Size\n"
     ]
    },
    {
     "name": "stderr",
     "output_type": "stream",
     "text": [
      "     53/200      6.43G    0.07718    0.06276     0.8317         14        640: 100%|██████████| 273/273 [01:09<00:00,  3.90it/s]\n",
      "                 Class     Images  Instances      Box(P          R      mAP50  mAP50-95): 100%|██████████| 91/91 [00:15<00:00,  5.94it/s]"
     ]
    },
    {
     "name": "stdout",
     "output_type": "stream",
     "text": [
      "                   all       2904       9175      0.974      0.947      0.982      0.743\n"
     ]
    },
    {
     "name": "stderr",
     "output_type": "stream",
     "text": [
      "\n"
     ]
    },
    {
     "name": "stdout",
     "output_type": "stream",
     "text": [
      "\n",
      "      Epoch    GPU_mem   box_loss   cls_loss   dfl_loss  Instances       Size\n"
     ]
    },
    {
     "name": "stderr",
     "output_type": "stream",
     "text": [
      "     54/200      6.47G    0.07711    0.06359     0.8308         18        640: 100%|██████████| 273/273 [01:10<00:00,  3.90it/s]\n",
      "                 Class     Images  Instances      Box(P          R      mAP50  mAP50-95): 100%|██████████| 91/91 [00:15<00:00,  5.96it/s]"
     ]
    },
    {
     "name": "stdout",
     "output_type": "stream",
     "text": [
      "                   all       2904       9175      0.974      0.948      0.982      0.719\n"
     ]
    },
    {
     "name": "stderr",
     "output_type": "stream",
     "text": [
      "\n"
     ]
    },
    {
     "name": "stdout",
     "output_type": "stream",
     "text": [
      "\n",
      "      Epoch    GPU_mem   box_loss   cls_loss   dfl_loss  Instances       Size\n"
     ]
    },
    {
     "name": "stderr",
     "output_type": "stream",
     "text": [
      "     55/200       6.4G    0.07525     0.0614     0.8296         14        640: 100%|██████████| 273/273 [01:10<00:00,  3.89it/s]\n",
      "                 Class     Images  Instances      Box(P          R      mAP50  mAP50-95): 100%|██████████| 91/91 [00:15<00:00,  5.91it/s]"
     ]
    },
    {
     "name": "stdout",
     "output_type": "stream",
     "text": [
      "                   all       2904       9175      0.976      0.949      0.983      0.753\n"
     ]
    },
    {
     "name": "stderr",
     "output_type": "stream",
     "text": [
      "\n"
     ]
    },
    {
     "name": "stdout",
     "output_type": "stream",
     "text": [
      "\n",
      "      Epoch    GPU_mem   box_loss   cls_loss   dfl_loss  Instances       Size\n"
     ]
    },
    {
     "name": "stderr",
     "output_type": "stream",
     "text": [
      "     56/200      6.43G    0.07634      0.063     0.8292         33        640: 100%|██████████| 273/273 [01:09<00:00,  3.90it/s]\n",
      "                 Class     Images  Instances      Box(P          R      mAP50  mAP50-95): 100%|██████████| 91/91 [00:15<00:00,  5.92it/s]"
     ]
    },
    {
     "name": "stdout",
     "output_type": "stream",
     "text": [
      "                   all       2904       9175      0.972      0.957      0.985      0.749\n"
     ]
    },
    {
     "name": "stderr",
     "output_type": "stream",
     "text": [
      "\n"
     ]
    },
    {
     "name": "stdout",
     "output_type": "stream",
     "text": [
      "\n",
      "      Epoch    GPU_mem   box_loss   cls_loss   dfl_loss  Instances       Size\n"
     ]
    },
    {
     "name": "stderr",
     "output_type": "stream",
     "text": [
      "     57/200      6.48G    0.07584    0.06267     0.8283         17        640: 100%|██████████| 273/273 [01:10<00:00,  3.90it/s]\n",
      "                 Class     Images  Instances      Box(P          R      mAP50  mAP50-95): 100%|██████████| 91/91 [00:15<00:00,  5.97it/s]\n"
     ]
    },
    {
     "name": "stdout",
     "output_type": "stream",
     "text": [
      "                   all       2904       9175      0.972      0.958      0.987      0.741\n",
      "\n",
      "      Epoch    GPU_mem   box_loss   cls_loss   dfl_loss  Instances       Size\n"
     ]
    },
    {
     "name": "stderr",
     "output_type": "stream",
     "text": [
      "     58/200      6.41G    0.07541    0.06211     0.8286          7        640: 100%|██████████| 273/273 [01:09<00:00,  3.90it/s]\n",
      "                 Class     Images  Instances      Box(P          R      mAP50  mAP50-95): 100%|██████████| 91/91 [00:15<00:00,  5.92it/s]"
     ]
    },
    {
     "name": "stdout",
     "output_type": "stream",
     "text": [
      "                   all       2904       9175      0.974      0.949      0.981      0.733\n"
     ]
    },
    {
     "name": "stderr",
     "output_type": "stream",
     "text": [
      "\n"
     ]
    },
    {
     "name": "stdout",
     "output_type": "stream",
     "text": [
      "\n",
      "      Epoch    GPU_mem   box_loss   cls_loss   dfl_loss  Instances       Size\n"
     ]
    },
    {
     "name": "stderr",
     "output_type": "stream",
     "text": [
      "     59/200      6.33G    0.07455    0.06088     0.8278         10        640: 100%|██████████| 273/273 [01:10<00:00,  3.90it/s]\n",
      "                 Class     Images  Instances      Box(P          R      mAP50  mAP50-95): 100%|██████████| 91/91 [00:15<00:00,  5.94it/s]"
     ]
    },
    {
     "name": "stdout",
     "output_type": "stream",
     "text": [
      "                   all       2904       9175      0.971       0.95      0.981      0.729\n"
     ]
    },
    {
     "name": "stderr",
     "output_type": "stream",
     "text": [
      "\n"
     ]
    },
    {
     "name": "stdout",
     "output_type": "stream",
     "text": [
      "\n",
      "      Epoch    GPU_mem   box_loss   cls_loss   dfl_loss  Instances       Size\n"
     ]
    },
    {
     "name": "stderr",
     "output_type": "stream",
     "text": [
      "     60/200      6.48G    0.07505    0.06139     0.8275         24        640: 100%|██████████| 273/273 [01:09<00:00,  3.90it/s]\n",
      "                 Class     Images  Instances      Box(P          R      mAP50  mAP50-95): 100%|██████████| 91/91 [00:15<00:00,  5.94it/s]"
     ]
    },
    {
     "name": "stdout",
     "output_type": "stream",
     "text": [
      "                   all       2904       9175      0.972      0.958      0.986      0.756\n"
     ]
    },
    {
     "name": "stderr",
     "output_type": "stream",
     "text": [
      "\n"
     ]
    },
    {
     "name": "stdout",
     "output_type": "stream",
     "text": [
      "\n",
      "      Epoch    GPU_mem   box_loss   cls_loss   dfl_loss  Instances       Size\n"
     ]
    },
    {
     "name": "stderr",
     "output_type": "stream",
     "text": [
      "     61/200       6.4G    0.07444    0.06053     0.8277         17        640: 100%|██████████| 273/273 [01:10<00:00,  3.90it/s]\n",
      "                 Class     Images  Instances      Box(P          R      mAP50  mAP50-95): 100%|██████████| 91/91 [00:15<00:00,  5.94it/s]"
     ]
    },
    {
     "name": "stdout",
     "output_type": "stream",
     "text": [
      "                   all       2904       9175      0.973      0.956      0.985      0.759\n"
     ]
    },
    {
     "name": "stderr",
     "output_type": "stream",
     "text": [
      "\n"
     ]
    },
    {
     "name": "stdout",
     "output_type": "stream",
     "text": [
      "\n",
      "      Epoch    GPU_mem   box_loss   cls_loss   dfl_loss  Instances       Size\n"
     ]
    },
    {
     "name": "stderr",
     "output_type": "stream",
     "text": [
      "     62/200      6.41G    0.07475    0.06096     0.8278         22        640: 100%|██████████| 273/273 [01:09<00:00,  3.91it/s]\n",
      "                 Class     Images  Instances      Box(P          R      mAP50  mAP50-95): 100%|██████████| 91/91 [00:15<00:00,  5.93it/s]"
     ]
    },
    {
     "name": "stdout",
     "output_type": "stream",
     "text": [
      "                   all       2904       9175      0.977      0.949      0.981      0.746\n"
     ]
    },
    {
     "name": "stderr",
     "output_type": "stream",
     "text": [
      "\n"
     ]
    },
    {
     "name": "stdout",
     "output_type": "stream",
     "text": [
      "\n",
      "      Epoch    GPU_mem   box_loss   cls_loss   dfl_loss  Instances       Size\n"
     ]
    },
    {
     "name": "stderr",
     "output_type": "stream",
     "text": [
      "     63/200      6.53G    0.07484    0.06153     0.8281         12        640: 100%|██████████| 273/273 [01:09<00:00,  3.90it/s]\n",
      "                 Class     Images  Instances      Box(P          R      mAP50  mAP50-95): 100%|██████████| 91/91 [00:15<00:00,  5.89it/s]"
     ]
    },
    {
     "name": "stdout",
     "output_type": "stream",
     "text": [
      "                   all       2904       9175      0.974      0.957      0.985      0.753\n"
     ]
    },
    {
     "name": "stderr",
     "output_type": "stream",
     "text": [
      "\n"
     ]
    },
    {
     "name": "stdout",
     "output_type": "stream",
     "text": [
      "\n",
      "      Epoch    GPU_mem   box_loss   cls_loss   dfl_loss  Instances       Size\n"
     ]
    },
    {
     "name": "stderr",
     "output_type": "stream",
     "text": [
      "     64/200      6.47G    0.07352    0.06018     0.8266         13        640: 100%|██████████| 273/273 [01:10<00:00,  3.89it/s]\n",
      "                 Class     Images  Instances      Box(P          R      mAP50  mAP50-95): 100%|██████████| 91/91 [00:15<00:00,  5.91it/s]"
     ]
    },
    {
     "name": "stdout",
     "output_type": "stream",
     "text": [
      "                   all       2904       9175      0.972      0.965      0.987      0.776\n"
     ]
    },
    {
     "name": "stderr",
     "output_type": "stream",
     "text": [
      "\n"
     ]
    },
    {
     "name": "stdout",
     "output_type": "stream",
     "text": [
      "\n",
      "      Epoch    GPU_mem   box_loss   cls_loss   dfl_loss  Instances       Size\n"
     ]
    },
    {
     "name": "stderr",
     "output_type": "stream",
     "text": [
      "     65/200      6.49G    0.07357    0.05958     0.8246         18        640: 100%|██████████| 273/273 [01:09<00:00,  3.91it/s]\n",
      "                 Class     Images  Instances      Box(P          R      mAP50  mAP50-95): 100%|██████████| 91/91 [00:15<00:00,  5.97it/s]"
     ]
    },
    {
     "name": "stdout",
     "output_type": "stream",
     "text": [
      "                   all       2904       9175      0.979      0.959      0.988      0.771\n"
     ]
    },
    {
     "name": "stderr",
     "output_type": "stream",
     "text": [
      "\n"
     ]
    },
    {
     "name": "stdout",
     "output_type": "stream",
     "text": [
      "\n",
      "      Epoch    GPU_mem   box_loss   cls_loss   dfl_loss  Instances       Size\n"
     ]
    },
    {
     "name": "stderr",
     "output_type": "stream",
     "text": [
      "     66/200      6.47G    0.07287    0.05901     0.8244         20        640: 100%|██████████| 273/273 [01:09<00:00,  3.90it/s]\n",
      "                 Class     Images  Instances      Box(P          R      mAP50  mAP50-95): 100%|██████████| 91/91 [00:15<00:00,  5.94it/s]"
     ]
    },
    {
     "name": "stdout",
     "output_type": "stream",
     "text": [
      "                   all       2904       9175      0.974      0.954      0.984       0.76\n"
     ]
    },
    {
     "name": "stderr",
     "output_type": "stream",
     "text": [
      "\n"
     ]
    },
    {
     "name": "stdout",
     "output_type": "stream",
     "text": [
      "\n",
      "      Epoch    GPU_mem   box_loss   cls_loss   dfl_loss  Instances       Size\n"
     ]
    },
    {
     "name": "stderr",
     "output_type": "stream",
     "text": [
      "     67/200      6.29G    0.07339     0.0593     0.8236          6        640: 100%|██████████| 273/273 [01:09<00:00,  3.90it/s]\n",
      "                 Class     Images  Instances      Box(P          R      mAP50  mAP50-95): 100%|██████████| 91/91 [00:15<00:00,  5.98it/s]"
     ]
    },
    {
     "name": "stdout",
     "output_type": "stream",
     "text": [
      "                   all       2904       9175      0.976      0.952      0.982      0.755\n"
     ]
    },
    {
     "name": "stderr",
     "output_type": "stream",
     "text": [
      "\n"
     ]
    },
    {
     "name": "stdout",
     "output_type": "stream",
     "text": [
      "\n",
      "      Epoch    GPU_mem   box_loss   cls_loss   dfl_loss  Instances       Size\n"
     ]
    },
    {
     "name": "stderr",
     "output_type": "stream",
     "text": [
      "     68/200      6.44G    0.07237    0.05818     0.8243         16        640: 100%|██████████| 273/273 [01:10<00:00,  3.90it/s]\n",
      "                 Class     Images  Instances      Box(P          R      mAP50  mAP50-95): 100%|██████████| 91/91 [00:15<00:00,  5.87it/s]\n"
     ]
    },
    {
     "name": "stdout",
     "output_type": "stream",
     "text": [
      "                   all       2904       9175      0.977      0.956      0.986      0.763\n",
      "\n",
      "      Epoch    GPU_mem   box_loss   cls_loss   dfl_loss  Instances       Size\n"
     ]
    },
    {
     "name": "stderr",
     "output_type": "stream",
     "text": [
      "     69/200       6.5G    0.07246    0.05872     0.8253         38        640: 100%|██████████| 273/273 [01:10<00:00,  3.90it/s]\n",
      "                 Class     Images  Instances      Box(P          R      mAP50  mAP50-95): 100%|██████████| 91/91 [00:15<00:00,  5.90it/s]"
     ]
    },
    {
     "name": "stdout",
     "output_type": "stream",
     "text": [
      "                   all       2904       9175      0.976      0.959      0.987      0.754\n"
     ]
    },
    {
     "name": "stderr",
     "output_type": "stream",
     "text": [
      "\n"
     ]
    },
    {
     "name": "stdout",
     "output_type": "stream",
     "text": [
      "\n",
      "      Epoch    GPU_mem   box_loss   cls_loss   dfl_loss  Instances       Size\n"
     ]
    },
    {
     "name": "stderr",
     "output_type": "stream",
     "text": [
      "     70/200      6.47G    0.07127    0.05722     0.8214         45        640: 100%|██████████| 273/273 [01:09<00:00,  3.91it/s]\n",
      "                 Class     Images  Instances      Box(P          R      mAP50  mAP50-95): 100%|██████████| 91/91 [00:15<00:00,  5.93it/s]"
     ]
    },
    {
     "name": "stdout",
     "output_type": "stream",
     "text": [
      "                   all       2904       9175      0.973      0.959      0.985      0.758\n"
     ]
    },
    {
     "name": "stderr",
     "output_type": "stream",
     "text": [
      "\n"
     ]
    },
    {
     "name": "stdout",
     "output_type": "stream",
     "text": [
      "\n",
      "      Epoch    GPU_mem   box_loss   cls_loss   dfl_loss  Instances       Size\n"
     ]
    },
    {
     "name": "stderr",
     "output_type": "stream",
     "text": [
      "     71/200       6.3G    0.07246    0.05919     0.8253         31        640: 100%|██████████| 273/273 [01:09<00:00,  3.91it/s]\n",
      "                 Class     Images  Instances      Box(P          R      mAP50  mAP50-95): 100%|██████████| 91/91 [00:15<00:00,  5.92it/s]"
     ]
    },
    {
     "name": "stdout",
     "output_type": "stream",
     "text": [
      "                   all       2904       9175      0.977      0.957      0.985      0.761\n"
     ]
    },
    {
     "name": "stderr",
     "output_type": "stream",
     "text": [
      "\n"
     ]
    },
    {
     "name": "stdout",
     "output_type": "stream",
     "text": [
      "\n",
      "      Epoch    GPU_mem   box_loss   cls_loss   dfl_loss  Instances       Size\n"
     ]
    },
    {
     "name": "stderr",
     "output_type": "stream",
     "text": [
      "     72/200      6.48G    0.07234    0.05862     0.8223         11        640: 100%|██████████| 273/273 [01:09<00:00,  3.91it/s]\n",
      "                 Class     Images  Instances      Box(P          R      mAP50  mAP50-95): 100%|██████████| 91/91 [00:15<00:00,  5.88it/s]"
     ]
    },
    {
     "name": "stdout",
     "output_type": "stream",
     "text": [
      "                   all       2904       9175      0.976      0.965      0.989      0.768\n"
     ]
    },
    {
     "name": "stderr",
     "output_type": "stream",
     "text": [
      "\n"
     ]
    },
    {
     "name": "stdout",
     "output_type": "stream",
     "text": [
      "\n",
      "      Epoch    GPU_mem   box_loss   cls_loss   dfl_loss  Instances       Size\n"
     ]
    },
    {
     "name": "stderr",
     "output_type": "stream",
     "text": [
      "     73/200      6.43G    0.07187    0.05726     0.8225         11        640: 100%|██████████| 273/273 [01:09<00:00,  3.91it/s]\n",
      "                 Class     Images  Instances      Box(P          R      mAP50  mAP50-95): 100%|██████████| 91/91 [00:15<00:00,  5.91it/s]"
     ]
    },
    {
     "name": "stdout",
     "output_type": "stream",
     "text": [
      "                   all       2904       9175      0.976      0.958      0.986      0.763\n"
     ]
    },
    {
     "name": "stderr",
     "output_type": "stream",
     "text": [
      "\n"
     ]
    },
    {
     "name": "stdout",
     "output_type": "stream",
     "text": [
      "\n",
      "      Epoch    GPU_mem   box_loss   cls_loss   dfl_loss  Instances       Size\n"
     ]
    },
    {
     "name": "stderr",
     "output_type": "stream",
     "text": [
      "     74/200       6.5G    0.07184    0.05779     0.8226         23        640: 100%|██████████| 273/273 [01:09<00:00,  3.90it/s]\n",
      "                 Class     Images  Instances      Box(P          R      mAP50  mAP50-95): 100%|██████████| 91/91 [00:15<00:00,  5.97it/s]"
     ]
    },
    {
     "name": "stdout",
     "output_type": "stream",
     "text": [
      "                   all       2904       9175      0.976       0.96      0.988      0.763\n",
      "\u001b[34m\u001b[1mEarlyStopping: \u001b[0mTraining stopped early as no improvement observed in last 10 epochs. Best results observed at epoch 64, best model saved as best.pt.\n",
      "To update EarlyStopping(patience=10) pass a new patience value, i.e. `patience=300` or use `patience=0` to disable EarlyStopping.\n"
     ]
    },
    {
     "name": "stderr",
     "output_type": "stream",
     "text": [
      "\n"
     ]
    },
    {
     "name": "stdout",
     "output_type": "stream",
     "text": [
      "\n",
      "74 epochs completed in 1.921 hours.\n",
      "Optimizer stripped from runs/detect/yolov8m_big_NVD_augment_less_background2/weights/last.pt, 52.0MB\n",
      "Optimizer stripped from runs/detect/yolov8m_big_NVD_augment_less_background2/weights/best.pt, 52.0MB\n",
      "\n",
      "Validating runs/detect/yolov8m_big_NVD_augment_less_background2/weights/best.pt...\n",
      "Ultralytics 8.3.137 🚀 Python-3.11.11 torch-2.6.0+cu124 CUDA:0 (NVIDIA GeForce RTX 2080 Ti, 11005MiB)\n",
      "Model summary (fused): 92 layers, 25,840,339 parameters, 0 gradients, 78.7 GFLOPs\n"
     ]
    },
    {
     "name": "stderr",
     "output_type": "stream",
     "text": [
      "                 Class     Images  Instances      Box(P          R      mAP50  mAP50-95): 100%|██████████| 91/91 [00:28<00:00,  3.14it/s]\n"
     ]
    },
    {
     "name": "stdout",
     "output_type": "stream",
     "text": [
      "                   all       2904       9175      0.938      0.948      0.981      0.713\n",
      "Speed: 0.1ms preprocess, 6.4ms inference, 0.0ms loss, 0.9ms postprocess per image\n",
      "Results saved to \u001b[1mruns/detect/yolov8m_big_NVD_augment_less_background2\u001b[0m\n"
     ]
    },
    {
     "ename": "SystemExit",
     "evalue": "ERROR: checkpoint not found at runs/train/yolov8m_big_NVD_augment_less_background/weights/best.pt",
     "output_type": "error",
     "traceback": [
      "An exception has occurred, use %tb to see the full traceback.\n",
      "\u001b[31mSystemExit\u001b[39m\u001b[31m:\u001b[39m ERROR: checkpoint not found at runs/train/yolov8m_big_NVD_augment_less_background/weights/best.pt\n"
     ]
    },
    {
     "name": "stderr",
     "output_type": "stream",
     "text": [
      "/usr/local/lib/python3.11/dist-packages/IPython/core/interactiveshell.py:3557: UserWarning: To exit: use 'exit', 'quit', or Ctrl-D.\n",
      "  warn(\"To exit: use 'exit', 'quit', or Ctrl-D.\", stacklevel=1)\n"
     ]
    }
   ],
   "source": [
    "import random\n",
    "import sys\n",
    "from pathlib import Path\n",
    "from ultralytics import YOLO\n",
    "import yaml\n",
    "\n",
    "# Configuration constants\n",
    "OUT_ROOT    = Path('combined_yolo_dataset_full_no_aug')\n",
    "EXPERIMENT  = 'yolov8m_big_NVD_augment_less_background'\n",
    "EPOCHS      = 200\n",
    "IMGSZ       = 640\n",
    "BATCH       = 16\n",
    "FREEZE_BACKBONE = False\n",
    "PATIENCE    = 10\n",
    "CONF_THRESH = 0.001  # or 0.01 is okay\n",
    "IOU_THRESH = 0.50\n",
    "\n",
    "\n",
    "\n",
    "def train():\n",
    "    \"\"\"Train YOLOv8 with custom hyperparameters.\"\"\"\n",
    "    model = YOLO('yolov8m.pt')\n",
    "\n",
    "    # === Commented out fine-tuning (hyperparameter search) ===\n",
    "    # model.tune(\n",
    "    #     data=str(OUT_ROOT / 'data.yaml'),\n",
    "    #     epochs=EPOCHS,\n",
    "    #     imgsz=IMGSZ,\n",
    "    #     batch=BATCH,\n",
    "    #     name=EXPERIMENT + '_tune',\n",
    "    #     freeze=FREEZE_BACKBONE,\n",
    "    #     optimizer='AdamW',\n",
    "    #     augment=True,\n",
    "    #     patience=PATIENCE,\n",
    "    #     iterations=HYP_TUNE_TRIALS\n",
    "    # )\n",
    "\n",
    "    # === Manual hyperparameters for training ===\n",
    "    hyp = {\n",
    "        'lr0': 0.003,\n",
    "        'lrf': 0.1,\n",
    "        'momentum': 0.937,\n",
    "        'weight_decay': 0.0005,\n",
    "        'warmup_epochs': 3.0,\n",
    "        'warmup_momentum': 0.8,\n",
    "        'warmup_bias_lr': 0.1,\n",
    "        'box': 0.5,\n",
    "        'cls': 0.05,\n",
    "        'dfl': 1.5,\n",
    "        'label_smoothing': 0.0,\n",
    "        'nbs': 64,\n",
    "    \n",
    "        'hsv_h': 0.015,\n",
    "        'hsv_s': 0.7,\n",
    "        'hsv_v': 0.4,\n",
    "        'degrees': 5.0,\n",
    "        'translate': 0.1,\n",
    "        'scale': 0.4,\n",
    "        'shear': 2.0,\n",
    "        'perspective': 0.001,\n",
    "        'flipud': 0.0,\n",
    "        'fliplr': 0.5,\n",
    "        'mosaic': 1.0,\n",
    "        'mixup': 0.2,\n",
    "        'copy_paste': 0.1\n",
    "    }\n",
    "\n",
    "    \n",
    "    hyp_path = OUT_ROOT / 'hyp.yaml'\n",
    "    with open(hyp_path, 'w') as f:\n",
    "        yaml.dump(hyp, f)\n",
    "\n",
    "    model.train(\n",
    "        data=str(OUT_ROOT / 'data.yaml'),\n",
    "        epochs=EPOCHS,\n",
    "        imgsz=IMGSZ,\n",
    "        batch=BATCH,\n",
    "        name=EXPERIMENT,\n",
    "        freeze=FREEZE_BACKBONE,\n",
    "        optimizer='AdamW',\n",
    "        augment=True,\n",
    "        patience=PATIENCE,\n",
    "        cfg=str(hyp_path)  # Load hyp from YAML\n",
    "    )\n",
    "\n",
    "\n",
    "def infer():\n",
    "    \"\"\"Run inference using the trained weights.\"\"\"\n",
    "    weights = Path('runs') / 'train' / EXPERIMENT / 'weights' / 'best.pt'\n",
    "    if not weights.exists():\n",
    "        sys.exit(f\"ERROR: checkpoint not found at {weights}\")\n",
    "\n",
    "    model = YOLO(str(weights))\n",
    "    results = model.predict(\n",
    "        source=str(OUT_ROOT / 'images/val'),\n",
    "        imgsz=IMGSZ,\n",
    "        conf=CONF_THRESH,\n",
    "        iou=IOU_THRESH,\n",
    "        save=True\n",
    "    )\n",
    "\n",
    "    print(\"\\nInference Summary:\")\n",
    "    for r in results:\n",
    "        confs = r.boxes.conf.cpu().numpy() if r.boxes.conf.nelement() else []\n",
    "        print(f\"{r.orig_shape} → {len(confs)} detections, scores: {confs}\")\n",
    "\n",
    "\n",
    "if __name__ == \"__main__\":\n",
    "    random.seed(42)\n",
    "    train()\n",
    "    infer()\n"
   ]
  },
  {
   "cell_type": "code",
   "execution_count": null,
   "id": "672f9b9a-5b53-4797-a744-d9a38869ae11",
   "metadata": {},
   "outputs": [],
   "source": [
    "from ultralytics import YOLO\n",
    "from pathlib import Path\n",
    "from IPython.display import Image, display, Markdown\n",
    "import cv2\n",
    "import yaml\n",
    "\n",
    "# ─── CONFIG ─────────────────────────────────────────────────────────────────────\n",
    "WEIGHTS       = \"runs/detect/yolov8m_big_NVD_augment_less_background_best/weights/best.pt\"\n",
    "DATA_YAML     = \"combined_yolo_dataset_full/data.yaml\"\n",
    "IMG_ROOT      = Path(\"../nvd/nvd_dataset_full/images/test\")\n",
    "LABEL_DIR     = Path(\"../nvd/nvd_dataset_full/labels/test\")\n",
    "OUTPUT_DIR    = Path(\"annotated_tests\")\n",
    "CONF_THRESH   = 0.5\n",
    "IOU_THRESH = 0.5  # threshold to consider a prediction as a correct match\n",
    "\n",
    "CLASS_ID      = 0  # 'car'\n",
    "NUM_VIS       = 30  # show top 5 images with most GT\n",
    "# ────────────────────────────────────────────────────────────────────────────────\n",
    "\n",
    "\n",
    "\n",
    "\n",
    "\n",
    "\n",
    "# ─── LOAD MODEL ─────────────────────────────────────────────────────────────────\n",
    "model = YOLO(WEIGHTS)\n",
    "\n",
    "# ─── RUN EVALUATION ─────────────────────────────────────────────────────────────\n",
    "results = model.val(data=DATA_YAML, conf=CONF_THRESH, split='test')\n",
    "\n",
    "\n",
    "# Resultatobjekt innehåller metrik i results.box (av typen Metric)\n",
    "metrics = results.box\n",
    "\n",
    "# Hämta precision, recall, AP@0.5, AP@0.5:0.95 för en specifik klass\n",
    "precision, recall, ap50, ap = metrics.class_result(CLASS_ID)\n",
    "\n",
    "# Skriv ut\n",
    "print(\"\\n🔍 Evaluation Metrics:\")\n",
    "print(f\"📈 Precision       : {precision:.4f}\")\n",
    "print(f\"📉 Recall          : {recall:.4f}\")\n",
    "print(f\"🏁 AP@0.5          : {ap50:.4f}\")\n",
    "print(f\"📊 AP@0.5:0.95     : {ap:.4f}\")\n",
    "print(f\"🎯 mAP@0.5 (mean)  : {metrics.map50:.4f}\")\n",
    "print(f\"🎯 mAP@0.5:0.95    : {metrics.map:.4f}\")\n",
    "\n",
    "\n",
    "random.seed(15)  # For reproducibility\n",
    "\n",
    "\n",
    "def get_gt_boxes(label_file):\n",
    "    boxes = []\n",
    "    with open(label_file, 'r') as f:\n",
    "        for line in f:\n",
    "            parts = line.strip().split()\n",
    "            if int(parts[0]) == CLASS_ID:\n",
    "                _, x_center, y_center, width, height = map(float, parts)\n",
    "                boxes.append((x_center, y_center, width, height))\n",
    "    return boxes\n",
    "\n",
    "def yolo_to_xyxy(box, img_w, img_h):\n",
    "    x_c, y_c, w, h = box\n",
    "    x1 = int((x_c - w / 2) * img_w)\n",
    "    y1 = int((y_c - h / 2) * img_h)\n",
    "    x2 = int((x_c + w / 2) * img_w)\n",
    "    y2 = int((y_c + h / 2) * img_h)\n",
    "    return [x1, y1, x2, y2]\n",
    "\n",
    "def compute_iou(boxA, boxB):\n",
    "    xA = max(boxA[0], boxB[0])\n",
    "    yA = max(boxA[1], boxB[1])\n",
    "    xB = min(boxA[2], boxB[2])\n",
    "    yB = min(boxA[3], boxB[3])\n",
    "    interArea = max(0, xB - xA) * max(0, yB - yA)\n",
    "    boxAArea = (boxA[2] - boxA[0]) * (boxA[3] - boxA[1])\n",
    "    boxBArea = (boxB[2] - boxB[0]) * (boxB[3] - boxB[1])\n",
    "    iou = interArea / float(boxAArea + boxBArea - interArea + 1e-6)\n",
    "    return iou\n",
    "\n",
    "# Step 1: Find valid images with GT of CLASS_ID\n",
    "valid_images = []\n",
    "for img_path in sorted(IMG_ROOT.glob(\"*.*\")):\n",
    "    if img_path.suffix.lower() not in ('.jpg', '.jpeg', '.png'):\n",
    "        continue\n",
    "    lbl_path = LABEL_DIR / f\"{img_path.stem}.txt\"\n",
    "    if not lbl_path.exists():\n",
    "        continue\n",
    "    if get_gt_boxes(lbl_path):\n",
    "        valid_images.append(img_path)\n",
    "\n",
    "# Step 2: Deterministically select 10 images\n",
    "selected_images = random.sample(valid_images, NUM_VIS)\n",
    "\n",
    "# Step 3: Annotate each selected image\n",
    "OUTPUT_DIR.mkdir(parents=True, exist_ok=True)\n",
    "\n",
    "for idx, img_path in enumerate(selected_images, 1):\n",
    "    img = cv2.imread(str(img_path))\n",
    "    img_rgb = cv2.cvtColor(img, cv2.COLOR_BGR2RGB)\n",
    "    h, w = img.shape[:2]\n",
    "\n",
    "    # Ground Truth boxes\n",
    "    gt_boxes_yolo = get_gt_boxes(LABEL_DIR / f\"{img_path.stem}.txt\")\n",
    "    gt_boxes = [yolo_to_xyxy(box, w, h) for box in gt_boxes_yolo]\n",
    "\n",
    "    # Predictions\n",
    "    results = model.predict(str(img_path), conf=CONF_THRESH)[0]\n",
    "\n",
    "    # Draw predictions (green)\n",
    "    for box, cls_id, conf in zip(results.boxes.xyxy, results.boxes.cls, results.boxes.conf):\n",
    "        if int(cls_id) != CLASS_ID:\n",
    "            continue\n",
    "        x1, y1, x2, y2 = map(int, box.cpu().numpy())\n",
    "        label = f\"{model.names[CLASS_ID]} {conf:.2f}\"\n",
    "        cv2.rectangle(img_rgb, (x1, y1), (x2, y2), (0, 255, 0), 2)\n",
    "        ts = cv2.getTextSize(label, cv2.FONT_HERSHEY_SIMPLEX, 0.5, 1)[0]\n",
    "        cv2.rectangle(img_rgb, (x1, y1 - ts[1] - 4), (x1 + ts[0], y1), (0, 255, 0), -1)\n",
    "        cv2.putText(img_rgb, label, (x1, y1 - 2), cv2.FONT_HERSHEY_SIMPLEX, 0.5, (0, 0, 0), 1)\n",
    "\n",
    "    # Draw ground truth boxes (blue)\n",
    "    for gb in gt_boxes:\n",
    "        x1, y1, x2, y2 = gb\n",
    "        cv2.rectangle(img_rgb, (x1, y1), (x2, y2), (255, 0, 0), 2)\n",
    "        cv2.putText(img_rgb, \"GT\", (x1, y1 - 6), cv2.FONT_HERSHEY_SIMPLEX, 0.5, (255, 0, 0), 1)\n",
    "\n",
    "    out_path = OUTPUT_DIR / f\"sample_{idx:02d}_{img_path.name}\"\n",
    "    cv2.imwrite(str(out_path), cv2.cvtColor(img_rgb, cv2.COLOR_RGB2BGR))\n",
    "\n",
    "    display(Markdown(f\"### {idx}. {img_path.name}\"))\n",
    "    display(Image(filename=str(out_path)))"
   ]
  },
  {
   "cell_type": "code",
   "execution_count": null,
   "id": "2287c568-e2a8-4302-a6b7-933bcda1a907",
   "metadata": {},
   "outputs": [],
   "source": []
  }
 ],
 "metadata": {
  "kernelspec": {
   "display_name": "Python 3 (ipykernel)",
   "language": "python",
   "name": "python3"
  },
  "language_info": {
   "codemirror_mode": {
    "name": "ipython",
    "version": 3
   },
   "file_extension": ".py",
   "mimetype": "text/x-python",
   "name": "python",
   "nbconvert_exporter": "python",
   "pygments_lexer": "ipython3",
   "version": "3.11.11"
  }
 },
 "nbformat": 4,
 "nbformat_minor": 5
}
